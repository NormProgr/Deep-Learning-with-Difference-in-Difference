{
 "cells": [
  {
   "cell_type": "code",
   "execution_count": null,
   "metadata": {},
   "outputs": [],
   "source": [
    "import pandas as pd\n",
    "\n",
    "data = pd.read_csv(\"src/difference_in_difference_with_deep_learning/data/testdata.csv\")"
   ]
  },
  {
   "cell_type": "code",
   "execution_count": null,
   "metadata": {},
   "outputs": [],
   "source": [
    "import yaml\n",
    "\n",
    "with open(\n",
    "    \"src/difference_in_difference_with_deep_learning/data_management/data_info.yaml\",\n",
    ") as file:\n",
    "    data_info = yaml.safe_load(file)"
   ]
  },
  {
   "cell_type": "code",
   "execution_count": null,
   "metadata": {},
   "outputs": [],
   "source": [
    "data_select_1 = data[data_info[\"categorical_columns\"][1]]\n",
    "data_select_2 = data[data_info[\"categorical_columns\"][2]]"
   ]
  },
  {
   "cell_type": "code",
   "execution_count": null,
   "metadata": {},
   "outputs": [],
   "source": [
    "data.loc[:, \"interaction\"] = data_select_1 * data_select_2"
   ]
  },
  {
   "cell_type": "code",
   "execution_count": null,
   "metadata": {},
   "outputs": [],
   "source": [
    "import statsmodels.formula.api as smf"
   ]
  },
  {
   "cell_type": "code",
   "execution_count": null,
   "metadata": {},
   "outputs": [],
   "source": [
    "def run_regression(data):\n",
    "    formula = \"wage_year ~ interaction + Individual + FQ + Reform + Age + WagePartner\"\n",
    "    reg_joint = smf.ols(formula=formula, data=data)\n",
    "    results_joint = reg_joint.fit()\n",
    "    return results_joint.summary()"
   ]
  },
  {
   "cell_type": "code",
   "execution_count": null,
   "metadata": {},
   "outputs": [],
   "source": [
    "summary = run_regression(data)\n",
    "print(summary)"
   ]
  },
  {
   "cell_type": "code",
   "execution_count": null,
   "metadata": {},
   "outputs": [],
   "source": [
    "for table in summary.tables:\n",
    "    print(table.as_latex_tabular())"
   ]
  },
  {
   "cell_type": "code",
   "execution_count": null,
   "metadata": {},
   "outputs": [],
   "source": [
    "# Extract the text of the summary\n",
    "summary_text = regression_summary.as_text()\n",
    "\n",
    "# Find the index where you want to cut off\n",
    "cut_off_index = summary_text.find(\"Omnibus:\")\n",
    "\n",
    "# Keep the portion of the summary before the cut-off index\n",
    "trimmed_summary_text = summary_text[:cut_off_index]\n",
    "trimmed_summary_text"
   ]
  },
  {
   "cell_type": "markdown",
   "metadata": {},
   "source": [
    "# Groupby richtig machen"
   ]
  },
  {
   "cell_type": "code",
   "execution_count": null,
   "metadata": {},
   "outputs": [],
   "source": [
    "import pandas as pd\n",
    "import statsmodels.formula.api as smf\n",
    "\n",
    "\n",
    "def estimate_regression(\n",
    "    data,\n",
    "    dependent_variable,\n",
    "    treatment_variable,\n",
    "    control_variables,\n",
    "    time_periods,\n",
    "):\n",
    "    \"\"\"Estimate regression models for each time period and summarize the results.\n",
    "\n",
    "    Parameters:\n",
    "        data (DataFrame): The dataset containing all variables.\n",
    "        dependent_variable (str): The name of the dependent variable.\n",
    "        treatment_variable (str): The name of the treatment variable.\n",
    "        control_variables (list): A list of names of control variables.\n",
    "        time_periods (list): A list of time periods for analysis.\n",
    "\n",
    "    Returns:\n",
    "        DataFrame: A DataFrame containing summary statistics for each time period.\n",
    "    \"\"\"\n",
    "    results_list = []\n",
    "\n",
    "    for time_period in time_periods:\n",
    "        # Filter the data for the current time period\n",
    "        data_time_period = data[data[\"time\"] == time_period]\n",
    "\n",
    "        # Define the regression formula\n",
    "        formula = f\"{dependent_variable} ~ {treatment_variable} + {' + '.join(control_variables)}\"\n",
    "\n",
    "        # Fit the regression model\n",
    "        reg_model = smf.ols(formula=formula, data=data_time_period)\n",
    "        results = reg_model.fit()\n",
    "\n",
    "        # Extract coefficient, std. error, and p-value\n",
    "        coefficient = results.params[treatment_variable]\n",
    "        std_error = results.bse[treatment_variable]\n",
    "        p_value = results.pvalues[treatment_variable]\n",
    "\n",
    "        # Determine significance level based on p-value\n",
    "        if p_value < 0.001:\n",
    "            significance = \"***\"\n",
    "        elif p_value < 0.01:\n",
    "            significance = \"**\"\n",
    "        elif p_value < 0.05:\n",
    "            significance = \"*\"\n",
    "        else:\n",
    "            significance = \"\"\n",
    "\n",
    "        # Calculate the control mean\n",
    "        control_mean = data_time_period[dependent_variable].mean()\n",
    "\n",
    "        # Calculate the difference between treatment and control groups\n",
    "        difference_tc = (\n",
    "            data_time_period[data_time_period[treatment_variable] == 1][\n",
    "                dependent_variable\n",
    "            ].mean()\n",
    "            - control_mean\n",
    "        )\n",
    "\n",
    "        # Calculate the difference with controls\n",
    "        # Assume mean of interaction term for simplicity\n",
    "        data_time_period[\"interaction\"].mean()\n",
    "        difference_tc_controls = (\n",
    "            difference_tc\n",
    "            - coefficient\n",
    "            * (\n",
    "                data_time_period[control_variables]\n",
    "                - data_time_period[control_variables].mean()\n",
    "            )\n",
    "            .mean()\n",
    "            .sum()\n",
    "        )\n",
    "\n",
    "        # Append the results to the list\n",
    "        results_list.append(\n",
    "            {\n",
    "                \"Time Period\": time_period,\n",
    "                \"Control Mean\": control_mean,\n",
    "                \"Difference T-C\": difference_tc,\n",
    "                \"Difference T-C with Controls\": difference_tc_controls,\n",
    "                \"Coefficient\": coefficient,\n",
    "                \"Std. Error\": std_error,\n",
    "                \"P-value\": p_value,\n",
    "                \"Significance\": significance,\n",
    "            },\n",
    "        )\n",
    "\n",
    "    # Convert the list of dictionaries to a DataFrame\n",
    "    return pd.DataFrame(results_list)\n",
    "\n",
    "\n",
    "# Example usage:"
   ]
  },
  {
   "cell_type": "code",
   "execution_count": null,
   "metadata": {},
   "outputs": [],
   "source": [
    "dependent_variable = \"wage_year\"\n",
    "treatment_variable = \"interaction\"\n",
    "control_variables = [\"FQ\", \"Reform\", \"WagePartner\", \"Individual\"]\n",
    "time_periods = [\"t-2\", \"t-1\", \"t+1\", \"t+2\", \"t+3\"]\n",
    "\n",
    "# Call the function\n",
    "results = estimate_regression(\n",
    "    data,\n",
    "    dependent_variable,\n",
    "    treatment_variable,\n",
    "    control_variables,\n",
    "    time_periods,\n",
    ")\n",
    "\n",
    "# Print the results table\n",
    "print(results)"
   ]
  }
 ],
 "metadata": {
  "language_info": {
   "codemirror_mode": {
    "name": "ipython",
    "version": 3
   },
   "file_extension": ".py",
   "mimetype": "text/x-python",
   "name": "python",
   "nbconvert_exporter": "python",
   "pygments_lexer": "ipython3"
  }
 },
 "nbformat": 4,
 "nbformat_minor": 2
}
