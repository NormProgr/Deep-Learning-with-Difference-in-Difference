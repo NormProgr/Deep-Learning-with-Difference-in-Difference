{
 "cells": [
  {
   "cell_type": "code",
   "execution_count": null,
   "metadata": {},
   "outputs": [],
   "source": [
    "import pandas as pd\n",
    "\n",
    "data = pd.read_csv(\"src/difference_in_difference_with_deep_learning/data/testdata.csv\")"
   ]
  },
  {
   "cell_type": "code",
   "execution_count": null,
   "metadata": {},
   "outputs": [],
   "source": [
    "import yaml\n",
    "\n",
    "with open(\n",
    "    \"src/difference_in_difference_with_deep_learning/data_management/data_info.yaml\",\n",
    ") as file:\n",
    "    data_info = yaml.safe_load(file)"
   ]
  },
  {
   "cell_type": "code",
   "execution_count": null,
   "metadata": {},
   "outputs": [],
   "source": [
    "data_select_1 = data[data_info[\"categorical_columns\"][0]]\n",
    "data_select_2 = data[data_info[\"categorical_columns\"][1]]"
   ]
  },
  {
   "cell_type": "code",
   "execution_count": null,
   "metadata": {},
   "outputs": [],
   "source": [
    "data.loc[:, data_info[\"causal_effect\"]] = data_select_1 * data_select_2"
   ]
  },
  {
   "cell_type": "code",
   "execution_count": null,
   "metadata": {},
   "outputs": [],
   "source": [
    "import statsmodels.formula.api as smf"
   ]
  },
  {
   "cell_type": "code",
   "execution_count": null,
   "metadata": {},
   "outputs": [],
   "source": [
    "def did_regression(data, data_info):\n",
    "    # Extract variables from data_info\n",
    "    outcome_variable = data_info[\"outcome\"]\n",
    "    causal_effect_variable = data_info[\"causal_effect\"]\n",
    "    categorical_columns = data_info[\"categorical_columns\"]\n",
    "    control_columns = data_info[\"control_columns\"]\n",
    "\n",
    "    # Create formula string\n",
    "    formula = f\"{outcome_variable} ~ {causal_effect_variable} + {' + '.join(categorical_columns)}  + {' + '.join(control_columns)}\"\n",
    "\n",
    "    # Set up the regression model\n",
    "    reg_model = smf.ols(formula=formula, data=data)\n",
    "\n",
    "    # Fit the regression model\n",
    "    results = reg_model.fit()\n",
    "\n",
    "    # Return the summary of the regression results\n",
    "    return results.summary2()"
   ]
  },
  {
   "cell_type": "markdown",
   "metadata": {},
   "source": [
    "## Summary of how to change summary output for my need (postponed)"
   ]
  },
  {
   "cell_type": "code",
   "execution_count": null,
   "metadata": {},
   "outputs": [],
   "source": [
    "summary = did_regression(data, data_info)\n",
    "print(summary)"
   ]
  },
  {
   "cell_type": "code",
   "execution_count": null,
   "metadata": {},
   "outputs": [],
   "source": [
    "data0 = summary.tables[0]"
   ]
  },
  {
   "cell_type": "code",
   "execution_count": null,
   "metadata": {},
   "outputs": [],
   "source": [
    "data0"
   ]
  },
  {
   "cell_type": "code",
   "execution_count": null,
   "metadata": {},
   "outputs": [],
   "source": [
    "adj_r_squared_row = data0.loc[data0[0] == \"Adj. R-squared:\"]\n",
    "no_observations_row = data0.loc[data0[3] == \"No. Observations:\"]"
   ]
  },
  {
   "cell_type": "code",
   "execution_count": null,
   "metadata": {},
   "outputs": [],
   "source": [
    "data1 = summary.tables[1]\n",
    "index = [\"Intercept\", \"interaction\", \"FQ\", \"Reform\", \"Age\", \"WagePartner\"]\n",
    "summary_df = pd.DataFrame(data, index=index)\n",
    "summary_df = summary_df.round(3)\n",
    "print(summary_df)"
   ]
  },
  {
   "cell_type": "code",
   "execution_count": null,
   "metadata": {},
   "outputs": [],
   "source": [
    "summary_df = pd.concat(\n",
    "    [summary_df, adj_r_squared_row, no_observations_row],\n",
    "    ignore_index=True,\n",
    ")"
   ]
  },
  {
   "cell_type": "code",
   "execution_count": null,
   "metadata": {},
   "outputs": [],
   "source": [
    "summary_df"
   ]
  },
  {
   "cell_type": "code",
   "execution_count": null,
   "metadata": {},
   "outputs": [],
   "source": [
    "latex_table = summary_df.to_latex()\n",
    "\n",
    "print(latex_table)"
   ]
  },
  {
   "cell_type": "code",
   "execution_count": null,
   "metadata": {},
   "outputs": [],
   "source": [
    "for table in summary.tables:\n",
    "    print(table.as_latex_tabular())"
   ]
  },
  {
   "cell_type": "markdown",
   "metadata": {},
   "source": [
    "# Groupby richtig machen"
   ]
  },
  {
   "cell_type": "code",
   "execution_count": null,
   "metadata": {},
   "outputs": [],
   "source": [
    "def estimate_regression(data, data_info):\n",
    "    \"\"\"Estimate regression models for each time period and summarize the results.\n",
    "\n",
    "    Parameters:\n",
    "        data (DataFrame): The dataset containing all variables.\n",
    "        data_info (dict): Dictionary containing data configuration information.\n",
    "\n",
    "    Returns:\n",
    "        DataFrame: A DataFrame containing summary statistics for each time period.\n",
    "    \"\"\"\n",
    "    results_list = []\n",
    "\n",
    "    for time_period in data[data_info[\"time\"]].unique():\n",
    "        # Filter the data for the current time period\n",
    "        data_time_period = data[data[data_info[\"time\"]] == time_period]\n",
    "\n",
    "        # Define the regression formula\n",
    "        formula = f\"{data_info['outcome']} ~ {data_info['causal_effect']} + {' + '.join(data_info['categorical_columns'] )} + {' + '.join(data_info['control_columns'])}\"\n",
    "\n",
    "        # Fit the regression model\n",
    "        reg_model = smf.ols(formula=formula, data=data_time_period)\n",
    "        results = reg_model.fit()\n",
    "\n",
    "        # Extract coefficient, std. error, and p-value\n",
    "        coefficient = results.params[data_info[\"causal_effect\"]]\n",
    "        std_error = results.bse[data_info[\"causal_effect\"]]\n",
    "        p_value = results.pvalues[data_info[\"causal_effect\"]]\n",
    "\n",
    "        # Calculate the control mean\n",
    "        control_mean = data_time_period[data_info[\"outcome\"]].mean()\n",
    "\n",
    "        # Calculate the difference between treatment and control groups\n",
    "        difference_tc = (\n",
    "            data_time_period[data_time_period[data_info[\"causal_effect\"]] == 1][\n",
    "                data_info[\"outcome\"]\n",
    "            ].mean()\n",
    "            - control_mean\n",
    "        )\n",
    "\n",
    "        # Calculate the difference with controls\n",
    "        # Assume mean of interaction term for simplicity\n",
    "        data_time_period[data_info[\"causal_effect\"]].mean()\n",
    "        difference_tc_controls = (\n",
    "            difference_tc\n",
    "            - coefficient\n",
    "            * (\n",
    "                data_time_period[data_info[\"control_columns\"]]\n",
    "                - data_time_period[data_info[\"control_columns\"]].mean()\n",
    "            )\n",
    "            .mean()\n",
    "            .sum()\n",
    "        )\n",
    "\n",
    "        # Append the results to the list\n",
    "        results_list.append(\n",
    "            {\n",
    "                \"Time Period\": time_period,\n",
    "                \"Control Mean\": control_mean,\n",
    "                \"Difference T-C\": difference_tc,\n",
    "                \"Difference T-C with Controls\": difference_tc_controls,\n",
    "                \"Coefficient\": coefficient,\n",
    "                \"Std. Error\": std_error,\n",
    "                \"P-value\": p_value,\n",
    "            },\n",
    "        )\n",
    "\n",
    "    # Convert the list of dictionaries to a DataFrame\n",
    "    return pd.DataFrame(results_list)"
   ]
  },
  {
   "cell_type": "code",
   "execution_count": null,
   "metadata": {},
   "outputs": [],
   "source": [
    "result_df = estimate_regression(data, data_info)"
   ]
  },
  {
   "cell_type": "code",
   "execution_count": null,
   "metadata": {},
   "outputs": [],
   "source": [
    "result_df"
   ]
  },
  {
   "cell_type": "code",
   "execution_count": null,
   "metadata": {},
   "outputs": [],
   "source": [
    "import matplotlib.pyplot as plt\n",
    "\n",
    "df = pd.DataFrame(data)\n",
    "\n",
    "time_order = [\"t-2\", \"t-1\", \"t+1\", \"t+2\", \"t+3\"]\n",
    "\n",
    "# Convert Time column to categorical with defined order\n",
    "df[\"time\"] = pd.Categorical(df[\"time\"], categories=time_order, ordered=True)\n",
    "\n",
    "\n",
    "# Calculate average wage for each group over time\n",
    "grouped = df.groupby([\"FQ\", \"Reform\", \"time\"])[\"wage_year\"].mean().reset_index()\n",
    "\n",
    "# Separate data for the two groups\n",
    "group0 = grouped[(grouped[\"FQ\"] == 0) & (grouped[\"Reform\"] == 0)]\n",
    "group1 = grouped[(grouped[\"FQ\"] == 1) & (grouped[\"Reform\"] == 1)]\n",
    "\n",
    "# Calculate counterfactual average wage for each time period\n",
    "counterfactual = group0.copy()\n",
    "counterfactual[\"wage_year\"] += group1[\"wage_year\"].mean() - group0[\"wage_year\"].mean()\n",
    "\n",
    "\n",
    "# Plotting\n",
    "plt.figure(figsize=(10, 5))\n",
    "plt.plot(group0[\"time\"], group0[\"wage_year\"], label=\"Group 0\", marker=\"o\")\n",
    "plt.plot(group1[\"time\"], group1[\"wage_year\"], label=\"Group 1\", marker=\"o\")\n",
    "plt.plot(\n",
    "    counterfactual[\"time\"],\n",
    "    counterfactual[\"wage_year\"],\n",
    "    label=\"Counterfactual\",\n",
    "    linestyle=\"--\",\n",
    "    marker=\"o\",\n",
    ")\n",
    "\n",
    "\n",
    "# Add labels and legend\n",
    "plt.xlabel(\"Time\")\n",
    "plt.ylabel(\"Average Wage\")\n",
    "plt.title(\"Difference-in-Differences Plot\")\n",
    "plt.legend()\n",
    "plt.grid(True)\n",
    "\n",
    "# Show plot\n",
    "plt.xticks(rotation=45)\n",
    "plt.tight_layout()\n",
    "plt.show()"
   ]
  }
 ],
 "metadata": {
  "language_info": {
   "codemirror_mode": {
    "name": "ipython",
    "version": 3
   },
   "file_extension": ".py",
   "mimetype": "text/x-python",
   "name": "python",
   "nbconvert_exporter": "python",
   "pygments_lexer": "ipython3"
  }
 },
 "nbformat": 4,
 "nbformat_minor": 2
}
